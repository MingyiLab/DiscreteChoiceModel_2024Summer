{
 "cells": [
  {
   "cell_type": "markdown",
   "id": "50fddff6",
   "metadata": {},
   "source": [
    "# Estimate a BLP model using Pyblp package\n",
    "## This script is used for familirizing the BLP codes in Python\n",
    "### Some variable names should be carefully treated, like prices, shares,demand_instruments#"
   ]
  },
  {
   "cell_type": "code",
   "execution_count": 3,
   "id": "e1423817",
   "metadata": {},
   "outputs": [
    {
     "name": "stderr",
     "output_type": "stream",
     "text": [
      "/Users/limingyi/opt/anaconda3/lib/python3.9/site-packages/pandas/core/computation/expressions.py:21: UserWarning: Pandas requires version '2.8.4' or newer of 'numexpr' (version '2.7.3' currently installed).\n",
      "  from pandas.core.computation.check import NUMEXPR_INSTALLED\n",
      "/Users/limingyi/opt/anaconda3/lib/python3.9/site-packages/pandas/core/arrays/masked.py:60: UserWarning: Pandas requires version '1.3.6' or newer of 'bottleneck' (version '1.3.2' currently installed).\n",
      "  from pandas.core import (\n"
     ]
    }
   ],
   "source": [
    "import pyblp\n",
    "import numpy as np\n",
    "import pandas as pd"
   ]
  },
  {
   "cell_type": "code",
   "execution_count": 4,
   "id": "5402cc4a",
   "metadata": {},
   "outputs": [
    {
     "data": {
      "text/plain": [
       "'1.1.0'"
      ]
     },
     "execution_count": 4,
     "metadata": {},
     "output_type": "execute_result"
    }
   ],
   "source": [
    "# some settings\n",
    "pyblp.options.digits = 2\n",
    "pyblp.options.verbose = False\n",
    "pyblp.__version__"
   ]
  },
  {
   "cell_type": "markdown",
   "id": "2a7556f6",
   "metadata": {},
   "source": [
    "## First of all, we estimate a  plain logit version of BLP\n",
    "$u_{ijt} = \\alpha p_{jt} + x_{jt}\\beta + \\xi_{jt} + \\epsilon_{ijt}.$\n",
    "\n",
    "In this case, $\\delta_{jt} = \\alpha p_{jt} +x_{jt}\\beta + \\xi_{jt}$ while $\\mu_{ijt} = 0$,and $u_{ijt} = \\delta_{jt} + \\epsilon_{ijt}$.\n",
    "Note that there is no nonlinear coefficients.\n",
    "\n",
    "Following the forumula of BLP, $s_{jt} = \\int_{A_{jt}}dP^*(\\epsilon) = \\frac{\\exp(\\alpha p_{jt} + x_{jt}\\beta + \\xi_{jt} )}{1 + \\Sigma_l ( \\alpha p_{lt} + x_{j=lt}\\beta + \\xi_{lt}) }$\n",
    "\n",
    "After taking logs\n",
    "$$\n",
    "\\log (s_{jt}) = \\alpha p_{jt} + x_{jt} \\beta + \\xi_{jt} - \\log (\\Sigma_k \\exp(\\alpha p_{kt} + x_{kt} \\beta + \\xi_{kt}))$$ and \n",
    "$$\n",
    "\\log(s_{0t}) = -\\log (\\Sigma_k \\exp(\\alpha p_{kt} + x_{kt} \\beta + \\xi_{kt}))\n",
    "$$\n",
    "\n",
    "Hence, by differencing the above we get:\n",
    "$$\n",
    "\\log(s_{jt}) - \\log(s_{0t}) = \\alpha p_{jt} + x_{jt} \\beta + \\xi_{jt}\n",
    "$$\n",
    "Because the left-hand side is data, we can estiamte this model using an linear IV GMM"
   ]
  },
  {
   "cell_type": "code",
   "execution_count": 5,
   "id": "7ab22927",
   "metadata": {},
   "outputs": [],
   "source": [
    "# Data load\n",
    "product_data = pd.read_csv(pyblp.data.NEVO_PRODUCTS_LOCATION)"
   ]
  },
  {
   "cell_type": "code",
   "execution_count": 6,
   "id": "ebb3a01d",
   "metadata": {},
   "outputs": [
    {
     "data": {
      "text/plain": [
       "Index(['market_ids', 'city_ids', 'quarter', 'product_ids', 'firm_ids',\n",
       "       'brand_ids', 'shares', 'prices', 'sugar', 'mushy',\n",
       "       'demand_instruments0', 'demand_instruments1', 'demand_instruments2',\n",
       "       'demand_instruments3', 'demand_instruments4', 'demand_instruments5',\n",
       "       'demand_instruments6', 'demand_instruments7', 'demand_instruments8',\n",
       "       'demand_instruments9', 'demand_instruments10', 'demand_instruments11',\n",
       "       'demand_instruments12', 'demand_instruments13', 'demand_instruments14',\n",
       "       'demand_instruments15', 'demand_instruments16', 'demand_instruments17',\n",
       "       'demand_instruments18', 'demand_instruments19'],\n",
       "      dtype='object')"
      ]
     },
     "execution_count": 6,
     "metadata": {},
     "output_type": "execute_result"
    }
   ],
   "source": [
    "product_data.columns"
   ]
  },
  {
   "cell_type": "code",
   "execution_count": 95,
   "id": "c522b28a",
   "metadata": {},
   "outputs": [],
   "source": [
    "# Construct a `PROBLEM'\n",
    "# Remember to name price as `prices', share as `shares' in the dataset. \n",
    "# Otherwise, the `PROBLEM' will not understand that price is endogenous\n",
    "# Formulation refers to page 105 in the manual \n"
   ]
  },
  {
   "cell_type": "code",
   "execution_count": 10,
   "id": "b54b140a",
   "metadata": {},
   "outputs": [],
   "source": [
    "logit_formulation = pyblp.Formulation('prices',absorb = 'C(product_ids)')\n",
    "problem = pyblp.Problem(logit_formulation, product_data)\n",
    "logit_results = problem.solve()"
   ]
  },
  {
   "cell_type": "code",
   "execution_count": 11,
   "id": "079b165c",
   "metadata": {},
   "outputs": [
    {
     "data": {
      "text/plain": [
       "Problem Results Summary:\n",
       "==========================================\n",
       "GMM   Objective  Clipped  Weighting Matrix\n",
       "Step    Value    Shares   Condition Number\n",
       "----  ---------  -------  ----------------\n",
       " 2    +1.9E+02      0         +5.7E+07    \n",
       "==========================================\n",
       "\n",
       "Cumulative Statistics:\n",
       "========================\n",
       "Computation   Objective \n",
       "   Time      Evaluations\n",
       "-----------  -----------\n",
       " 00:00:00         2     \n",
       "========================\n",
       "\n",
       "Beta Estimates (Robust SEs in Parentheses):\n",
       "==========\n",
       "  prices  \n",
       "----------\n",
       " -3.0E+01 \n",
       "(+1.0E+00)\n",
       "=========="
      ]
     },
     "execution_count": 11,
     "metadata": {},
     "output_type": "execute_result"
    }
   ],
   "source": [
    "logit_results"
   ]
  },
  {
   "cell_type": "code",
   "execution_count": 33,
   "id": "b3a514a2",
   "metadata": {},
   "outputs": [],
   "source": [
    "###### Random Coefficient ########"
   ]
  },
  {
   "cell_type": "code",
   "execution_count": 26,
   "id": "87ae4072",
   "metadata": {},
   "outputs": [],
   "source": [
    "product_data = pd.read_csv(pyblp.data.NEVO_PRODUCTS_LOCATION)"
   ]
  },
  {
   "cell_type": "markdown",
   "id": "501c239b",
   "metadata": {},
   "source": []
  },
  {
   "cell_type": "code",
   "execution_count": 14,
   "id": "2cd68e09",
   "metadata": {},
   "outputs": [
    {
     "data": {
      "text/html": [
       "<div>\n",
       "<style scoped>\n",
       "    .dataframe tbody tr th:only-of-type {\n",
       "        vertical-align: middle;\n",
       "    }\n",
       "\n",
       "    .dataframe tbody tr th {\n",
       "        vertical-align: top;\n",
       "    }\n",
       "\n",
       "    .dataframe thead th {\n",
       "        text-align: right;\n",
       "    }\n",
       "</style>\n",
       "<table border=\"1\" class=\"dataframe\">\n",
       "  <thead>\n",
       "    <tr style=\"text-align: right;\">\n",
       "      <th></th>\n",
       "      <th>market_ids</th>\n",
       "      <th>city_ids</th>\n",
       "      <th>quarter</th>\n",
       "      <th>product_ids</th>\n",
       "      <th>firm_ids</th>\n",
       "      <th>brand_ids</th>\n",
       "      <th>shares</th>\n",
       "      <th>prices</th>\n",
       "      <th>sugar</th>\n",
       "      <th>mushy</th>\n",
       "      <th>...</th>\n",
       "      <th>demand_instruments10</th>\n",
       "      <th>demand_instruments11</th>\n",
       "      <th>demand_instruments12</th>\n",
       "      <th>demand_instruments13</th>\n",
       "      <th>demand_instruments14</th>\n",
       "      <th>demand_instruments15</th>\n",
       "      <th>demand_instruments16</th>\n",
       "      <th>demand_instruments17</th>\n",
       "      <th>demand_instruments18</th>\n",
       "      <th>demand_instruments19</th>\n",
       "    </tr>\n",
       "  </thead>\n",
       "  <tbody>\n",
       "    <tr>\n",
       "      <th>0</th>\n",
       "      <td>C01Q1</td>\n",
       "      <td>1</td>\n",
       "      <td>1</td>\n",
       "      <td>F1B04</td>\n",
       "      <td>1</td>\n",
       "      <td>4</td>\n",
       "      <td>0.012417</td>\n",
       "      <td>0.072088</td>\n",
       "      <td>2</td>\n",
       "      <td>1</td>\n",
       "      <td>...</td>\n",
       "      <td>2.116358</td>\n",
       "      <td>-0.154708</td>\n",
       "      <td>-0.005796</td>\n",
       "      <td>0.014538</td>\n",
       "      <td>0.126244</td>\n",
       "      <td>0.067345</td>\n",
       "      <td>0.068423</td>\n",
       "      <td>0.034800</td>\n",
       "      <td>0.126346</td>\n",
       "      <td>0.035484</td>\n",
       "    </tr>\n",
       "    <tr>\n",
       "      <th>1</th>\n",
       "      <td>C01Q1</td>\n",
       "      <td>1</td>\n",
       "      <td>1</td>\n",
       "      <td>F1B06</td>\n",
       "      <td>1</td>\n",
       "      <td>6</td>\n",
       "      <td>0.007809</td>\n",
       "      <td>0.114178</td>\n",
       "      <td>18</td>\n",
       "      <td>1</td>\n",
       "      <td>...</td>\n",
       "      <td>-7.374091</td>\n",
       "      <td>-0.576412</td>\n",
       "      <td>0.012991</td>\n",
       "      <td>0.076143</td>\n",
       "      <td>0.029736</td>\n",
       "      <td>0.087867</td>\n",
       "      <td>0.110501</td>\n",
       "      <td>0.087784</td>\n",
       "      <td>0.049872</td>\n",
       "      <td>0.072579</td>\n",
       "    </tr>\n",
       "    <tr>\n",
       "      <th>2</th>\n",
       "      <td>C01Q1</td>\n",
       "      <td>1</td>\n",
       "      <td>1</td>\n",
       "      <td>F1B07</td>\n",
       "      <td>1</td>\n",
       "      <td>7</td>\n",
       "      <td>0.012995</td>\n",
       "      <td>0.132391</td>\n",
       "      <td>4</td>\n",
       "      <td>1</td>\n",
       "      <td>...</td>\n",
       "      <td>2.187872</td>\n",
       "      <td>-0.207346</td>\n",
       "      <td>0.003509</td>\n",
       "      <td>0.091781</td>\n",
       "      <td>0.163773</td>\n",
       "      <td>0.111881</td>\n",
       "      <td>0.108226</td>\n",
       "      <td>0.086439</td>\n",
       "      <td>0.122347</td>\n",
       "      <td>0.101842</td>\n",
       "    </tr>\n",
       "    <tr>\n",
       "      <th>3</th>\n",
       "      <td>C01Q1</td>\n",
       "      <td>1</td>\n",
       "      <td>1</td>\n",
       "      <td>F1B09</td>\n",
       "      <td>1</td>\n",
       "      <td>9</td>\n",
       "      <td>0.005770</td>\n",
       "      <td>0.130344</td>\n",
       "      <td>3</td>\n",
       "      <td>0</td>\n",
       "      <td>...</td>\n",
       "      <td>2.704576</td>\n",
       "      <td>0.040748</td>\n",
       "      <td>-0.003724</td>\n",
       "      <td>0.094732</td>\n",
       "      <td>0.135274</td>\n",
       "      <td>0.088090</td>\n",
       "      <td>0.101767</td>\n",
       "      <td>0.101777</td>\n",
       "      <td>0.110741</td>\n",
       "      <td>0.104332</td>\n",
       "    </tr>\n",
       "    <tr>\n",
       "      <th>4</th>\n",
       "      <td>C01Q1</td>\n",
       "      <td>1</td>\n",
       "      <td>1</td>\n",
       "      <td>F1B11</td>\n",
       "      <td>1</td>\n",
       "      <td>11</td>\n",
       "      <td>0.017934</td>\n",
       "      <td>0.154823</td>\n",
       "      <td>12</td>\n",
       "      <td>0</td>\n",
       "      <td>...</td>\n",
       "      <td>1.261242</td>\n",
       "      <td>0.034836</td>\n",
       "      <td>-0.000568</td>\n",
       "      <td>0.102451</td>\n",
       "      <td>0.130640</td>\n",
       "      <td>0.084818</td>\n",
       "      <td>0.101075</td>\n",
       "      <td>0.125169</td>\n",
       "      <td>0.133464</td>\n",
       "      <td>0.121111</td>\n",
       "    </tr>\n",
       "  </tbody>\n",
       "</table>\n",
       "<p>5 rows × 30 columns</p>\n",
       "</div>"
      ],
      "text/plain": [
       "  market_ids  city_ids  quarter product_ids  firm_ids  brand_ids    shares  \\\n",
       "0      C01Q1         1        1       F1B04         1          4  0.012417   \n",
       "1      C01Q1         1        1       F1B06         1          6  0.007809   \n",
       "2      C01Q1         1        1       F1B07         1          7  0.012995   \n",
       "3      C01Q1         1        1       F1B09         1          9  0.005770   \n",
       "4      C01Q1         1        1       F1B11         1         11  0.017934   \n",
       "\n",
       "     prices  sugar  mushy  ...  demand_instruments10  demand_instruments11  \\\n",
       "0  0.072088      2      1  ...              2.116358             -0.154708   \n",
       "1  0.114178     18      1  ...             -7.374091             -0.576412   \n",
       "2  0.132391      4      1  ...              2.187872             -0.207346   \n",
       "3  0.130344      3      0  ...              2.704576              0.040748   \n",
       "4  0.154823     12      0  ...              1.261242              0.034836   \n",
       "\n",
       "   demand_instruments12  demand_instruments13  demand_instruments14  \\\n",
       "0             -0.005796              0.014538              0.126244   \n",
       "1              0.012991              0.076143              0.029736   \n",
       "2              0.003509              0.091781              0.163773   \n",
       "3             -0.003724              0.094732              0.135274   \n",
       "4             -0.000568              0.102451              0.130640   \n",
       "\n",
       "   demand_instruments15  demand_instruments16  demand_instruments17  \\\n",
       "0              0.067345              0.068423              0.034800   \n",
       "1              0.087867              0.110501              0.087784   \n",
       "2              0.111881              0.108226              0.086439   \n",
       "3              0.088090              0.101767              0.101777   \n",
       "4              0.084818              0.101075              0.125169   \n",
       "\n",
       "   demand_instruments18  demand_instruments19  \n",
       "0              0.126346              0.035484  \n",
       "1              0.049872              0.072579  \n",
       "2              0.122347              0.101842  \n",
       "3              0.110741              0.104332  \n",
       "4              0.133464              0.121111  \n",
       "\n",
       "[5 rows x 30 columns]"
      ]
     },
     "execution_count": 14,
     "metadata": {},
     "output_type": "execute_result"
    }
   ],
   "source": [
    "product_data.head()"
   ]
  },
  {
   "cell_type": "code",
   "execution_count": 27,
   "id": "a392b2df",
   "metadata": {},
   "outputs": [],
   "source": [
    "X1_formulation = pyblp.Formulation('prices', absorb = 'C(product_ids)')\n",
    "X2_formulation = pyblp.Formulation('1 + prices + sugar + mushy')\n",
    "product_formulation = (X1_formulation,X2_formulation)"
   ]
  },
  {
   "cell_type": "code",
   "execution_count": 219,
   "id": "4894008b",
   "metadata": {},
   "outputs": [],
   "source": [
    "# Monte-Carlo draws from a pseudo-random multivariate normal distribution\n",
    "# In this exercise, we do not have individual i's characteristics.\n",
    "# Assume individual characteristics follow a multi-normal distribution\n",
    "mc_int = pyblp.Integration('monte_carlo', size = 50, specification_options={'seed':0})"
   ]
  },
  {
   "cell_type": "code",
   "execution_count": 225,
   "id": "14729ad4",
   "metadata": {},
   "outputs": [],
   "source": [
    "mc_problem = pyblp.Problem(product_formulation, product_data, integration=mc_int)"
   ]
  },
  {
   "cell_type": "code",
   "execution_count": 25,
   "id": "75daf7f7",
   "metadata": {},
   "outputs": [],
   "source": [
    "bfgs = pyblp.Optimization('bfgs',{'gtol':1e-4})\n",
    "# Optimization methods see: https://docs.scipy.org/doc/scipy/reference/generated/scipy.optimize.minimize.html#scipy.optimize.minimize"
   ]
  },
  {
   "cell_type": "code",
   "execution_count": 223,
   "id": "7e44b80b",
   "metadata": {},
   "outputs": [
    {
     "name": "stderr",
     "output_type": "stream",
     "text": [
      "The model may be under-identified. The total number of unfixed parameters is 4, which is more than the total number of moments, 1. Consider checking whether instruments were properly specified when initializing the problem, and whether parameters were properly configured when solving the problem.\n"
     ]
    }
   ],
   "source": [
    "res1 = mc_problem.solve(sigma = np.ones((4,4)), optimization=bfgs)"
   ]
  },
  {
   "cell_type": "code",
   "execution_count": 224,
   "id": "0acd390c",
   "metadata": {},
   "outputs": [
    {
     "data": {
      "text/plain": [
       "Problem Results Summary:\n",
       "=======================================================================================================\n",
       "GMM   Objective  Gradient      Hessian         Hessian     Clipped  Weighting Matrix  Covariance Matrix\n",
       "Step    Value      Norm    Min Eigenvalue  Max Eigenvalue  Shares   Condition Number  Condition Number \n",
       "----  ---------  --------  --------------  --------------  -------  ----------------  -----------------\n",
       " 2    +2.5E-31   +1.5E-16     -6.1E-09        +2.8E-08        0         +1.0E+00          +2.2E+18     \n",
       "=======================================================================================================\n",
       "\n",
       "Cumulative Statistics:\n",
       "===========================================================================\n",
       "Computation  Optimizer  Optimization   Objective   Fixed Point  Contraction\n",
       "   Time      Converged   Iterations   Evaluations  Iterations   Evaluations\n",
       "-----------  ---------  ------------  -----------  -----------  -----------\n",
       " 00:00:04       Yes          0             4           766         2704    \n",
       "===========================================================================\n",
       "\n",
       "Nonlinear Coefficient Estimates (Robust SEs in Parentheses):\n",
       "=========================================================================\n",
       "Sigma:      1         prices    |  Sigma Squared:      1         prices  \n",
       "------  ----------  ----------  |  --------------  ----------  ----------\n",
       "  1      +1.0E+00               |        1          +1.0E+00    +1.0E+00 \n",
       "        (+5.9E+00)              |                  (+1.2E+01)  (+6.5E+00)\n",
       "                                |                                        \n",
       "prices   +1.0E+00    +1.0E+00   |      prices       +1.0E+00    +2.0E+00 \n",
       "        (+5.5E-01)  (+1.6E+00)  |                  (+6.5E+00)  (+2.2E+00)\n",
       "=========================================================================\n",
       "\n",
       "Beta Estimates (Robust SEs in Parentheses):\n",
       "==========\n",
       "  prices  \n",
       "----------\n",
       " -6.6E+01 \n",
       "(+5.2E-01)\n",
       "=========="
      ]
     },
     "execution_count": 224,
     "metadata": {},
     "output_type": "execute_result"
    }
   ],
   "source": [
    "res1"
   ]
  },
  {
   "cell_type": "code",
   "execution_count": null,
   "id": "e5ca8a58",
   "metadata": {},
   "outputs": [],
   "source": []
  },
  {
   "cell_type": "markdown",
   "id": "81b8837a",
   "metadata": {},
   "source": [
    "## The random-coefficient Utility looks like:\n",
    "$$\n",
    "u_{njt} = \\delta_{nj} + \\mu_{njt} + \\epsilon_{njt}\n",
    "$$\n",
    "where \n",
    "$$\n",
    "\\delta_{jt} = -\\beta price_{jt} + Brand~FE_j\\\\\n",
    "\\mu_{njt} = [1, price_{jt}, sugar_{jt}, mushy_{jt}] [\\Pi D_i + \\Sigma v_i]\\\\\n",
    "D_i = [Income, Income^2, Age,Child]'\n",
    "$$"
   ]
  },
  {
   "cell_type": "code",
   "execution_count": 28,
   "id": "5ca929f3",
   "metadata": {},
   "outputs": [],
   "source": [
    "agent_data = pd.read_csv(pyblp.data.NEVO_AGENTS_LOCATION)"
   ]
  },
  {
   "cell_type": "code",
   "execution_count": 29,
   "id": "e6928cbc",
   "metadata": {},
   "outputs": [],
   "source": [
    "agent_formulation = pyblp.Formulation('0 + income + income_squared + age + child')"
   ]
  },
  {
   "cell_type": "code",
   "execution_count": 34,
   "id": "2d57f04d",
   "metadata": {},
   "outputs": [],
   "source": []
  },
  {
   "cell_type": "code",
   "execution_count": 36,
   "id": "09b42a28",
   "metadata": {},
   "outputs": [],
   "source": [
    "nevo_problem = pyblp.Problem(product_formulation, product_data, agent_formulation, agent_data)\n",
    "# mc_int = pyblp.Integration('monte_carlo', size = 20, specification_options={'seed':0})\n",
    "# nevo_problem = pyblp.Problem(product_formulation, product_data, agent_formulation, agent_data,integration=mc_int)"
   ]
  },
  {
   "cell_type": "code",
   "execution_count": 37,
   "id": "5d38aa56",
   "metadata": {},
   "outputs": [
    {
     "data": {
      "text/plain": [
       "Dimensions:\n",
       "=================================================\n",
       " T    N     F    I     K1    K2    D    MD    ED \n",
       "---  ----  ---  ----  ----  ----  ---  ----  ----\n",
       "94   2256   5   1880   1     4     4    20    1  \n",
       "=================================================\n",
       "\n",
       "Formulations:\n",
       "===================================================================\n",
       "       Column Indices:           0           1           2      3  \n",
       "-----------------------------  ------  --------------  -----  -----\n",
       " X1: Linear Characteristics    prices                              \n",
       "X2: Nonlinear Characteristics    1         prices      sugar  mushy\n",
       "       d: Demographics         income  income_squared   age   child\n",
       "==================================================================="
      ]
     },
     "execution_count": 37,
     "metadata": {},
     "output_type": "execute_result"
    }
   ],
   "source": [
    "nevo_problem"
   ]
  },
  {
   "cell_type": "code",
   "execution_count": 40,
   "id": "d26bc658",
   "metadata": {},
   "outputs": [],
   "source": [
    "# Initialize nonlinear parameters \n",
    "\n",
    "# Pi\n",
    "initial_sigma = np.diag([0.3, 2.4, 0.01, 0.2])\n",
    "\n",
    "# Sigma\n",
    "# zero means not updating these values and keeping them 0\n",
    "initial_pi = np.array([\n",
    "[ 5.4819,  0,      0.2037,  0     ],\n",
    "[15.8935, -1.2000, 0,       2.6342],\n",
    "[-0.2506,  0,      0.0511,  0     ],\n",
    "[ 1.2650,  0,     -0.8091,  0     ]\n",
    "])"
   ]
  },
  {
   "cell_type": "code",
   "execution_count": 257,
   "id": "877ab09c",
   "metadata": {},
   "outputs": [],
   "source": []
  },
  {
   "cell_type": "code",
   "execution_count": 258,
   "id": "2dcd1609",
   "metadata": {},
   "outputs": [],
   "source": [
    "# Also, we can use other initialization methods\n",
    "initial_pi = np.random.normal(size = initial_pi.shape)"
   ]
  },
  {
   "cell_type": "code",
   "execution_count": 39,
   "id": "e5a178f2",
   "metadata": {},
   "outputs": [],
   "source": [
    "# We have 20 IVs in this dataset, which induces 20 moment conditions, \n",
    "# are incoporated into a target function using a sandwich form"
   ]
  },
  {
   "cell_type": "code",
   "execution_count": 42,
   "id": "b3f872dc",
   "metadata": {},
   "outputs": [],
   "source": [
    "tighter_bfgs = pyblp.Optimization('bfgs',{'gtol':1e-5})"
   ]
  },
  {
   "cell_type": "code",
   "execution_count": 46,
   "id": "5f899f2b",
   "metadata": {},
   "outputs": [],
   "source": [
    "# Initialize and solve\n",
    "model_results = nevo_problem.solve(initial_sigma,initial_pi,optimization=tighter_bfgs)"
   ]
  },
  {
   "cell_type": "code",
   "execution_count": 303,
   "id": "2e8c4a7f",
   "metadata": {},
   "outputs": [],
   "source": [
    "results_list = []\n",
    "#    results_list.append(['gradient', model_results.gradient[0][0], 0])\n",
    "results_list.append(['objective', model_results.objective[0][0], 0])\n",
    "results_list.append(['minutes_to_compute', model_results.cumulative_total_time/60, 0])\n",
    "results_list.append(['converged', float(model_results.converged), 0])\n",
    "df_optim = pd.DataFrame(results_list, columns = ['name', 'estimate', 'estimate_se'])"
   ]
  },
  {
   "cell_type": "code",
   "execution_count": 305,
   "id": "34f56d73",
   "metadata": {},
   "outputs": [
    {
     "data": {
      "text/plain": [
       "[['objective', 0.03104599903587035, 0],\n",
       " ['minutes_to_compute', 19.226098513603212, 0],\n",
       " ['converged', 1.0, 0]]"
      ]
     },
     "execution_count": 305,
     "metadata": {},
     "output_type": "execute_result"
    }
   ],
   "source": [
    "results_list"
   ]
  }
 ],
 "metadata": {
  "kernelspec": {
   "display_name": "Python 3 (ipykernel)",
   "language": "python",
   "name": "python3"
  },
  "language_info": {
   "codemirror_mode": {
    "name": "ipython",
    "version": 3
   },
   "file_extension": ".py",
   "mimetype": "text/x-python",
   "name": "python",
   "nbconvert_exporter": "python",
   "pygments_lexer": "ipython3",
   "version": "3.9.7"
  }
 },
 "nbformat": 4,
 "nbformat_minor": 5
}
