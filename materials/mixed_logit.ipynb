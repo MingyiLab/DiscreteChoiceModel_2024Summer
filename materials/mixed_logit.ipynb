{
 "cells": [
  {
   "cell_type": "markdown",
   "id": "8702a0d9",
   "metadata": {},
   "source": [
    "# Mixed-Logit Model Example"
   ]
  },
  {
   "cell_type": "code",
   "execution_count": 1,
   "id": "88b4cd8b",
   "metadata": {},
   "outputs": [
    {
     "name": "stderr",
     "output_type": "stream",
     "text": [
      "/Users/limingyi/opt/anaconda3/lib/python3.9/site-packages/pandas/core/computation/expressions.py:21: UserWarning: Pandas requires version '2.8.4' or newer of 'numexpr' (version '2.7.3' currently installed).\n",
      "  from pandas.core.computation.check import NUMEXPR_INSTALLED\n",
      "/Users/limingyi/opt/anaconda3/lib/python3.9/site-packages/pandas/core/arrays/masked.py:60: UserWarning: Pandas requires version '1.3.6' or newer of 'bottleneck' (version '1.3.2' currently installed).\n",
      "  from pandas.core import (\n"
     ]
    }
   ],
   "source": [
    "import autograd.numpy as np\n",
    "from autograd import grad\n",
    "from autograd import hessian\n",
    "import scipy.optimize as opt\n",
    "import pandas as pd\n",
    "import matplotlib.pyplot as plt\n",
    "from collections import Counter"
   ]
  },
  {
   "cell_type": "markdown",
   "id": "8990ab87",
   "metadata": {},
   "source": [
    "- Utility function\n",
    "$$\n",
    "U_{nj} = \\beta_0 \\times quality_{j} - \\beta_1 \\times\\frac{price_j}{income_n} + \\beta_2 \\times popularity_j + \\epsilon_{nj}\n",
    "$$\n",
    "where $\\beta_0 \\sim LN(0.8,0.7); \\beta_1 \\sim LN(0.5,0.8); \\beta_2 \\sim N(0.6,0.5)$"
   ]
  },
  {
   "cell_type": "code",
   "execution_count": 11,
   "id": "a52d0891",
   "metadata": {},
   "outputs": [],
   "source": [
    "# Data Generation Process\n",
    "\n",
    "\n",
    "# Number of consumers\n",
    "N = 5000\n",
    "\n",
    "# Number of alternatives\n",
    "K = 4\n",
    "\n",
    "# Generate goods characteristics\n",
    "quality = np.random.normal(scale = 2, loc = 0,size = K)\n",
    "price = np.random.normal(scale = 2, loc = 0,size = K)\n",
    "popularity = np.random.normal(scale =1, loc = 0,size = K)\n",
    "goods = pd.DataFrame(np.concatenate([np.arange(K).reshape(-1,1),quality.reshape(-1,1),price.reshape(-1,1),popularity.reshape(-1,1)],axis=1),columns = ['gid','quality','price','popularity'])\n",
    "\n",
    "\n",
    "\n",
    "\n",
    "# Generate True underlying parameters following specific distributions\n",
    "true_params = [.8,.7,.5,.8,.6,.5]\n",
    "\n",
    "b0 = np.random.lognormal(mean = true_params[0],sigma = true_params[1],size = N)\n",
    "b1 = np.random.lognormal(mean = true_params[2],sigma = true_params[3],size = N)\n",
    "b2 = np.random.normal(loc = true_params[4],scale = true_params[5], size = N)\n",
    "b = np.concatenate([b0.reshape(-1,1),b1.reshape(-1,1),b2.reshape(-1,1)],axis=1)\n",
    "\n",
    "# Generate consumer characteristics\n",
    "income = np.random.uniform(low= 2, high = 6,size = N)\n",
    "user = pd.DataFrame(np.concatenate([np.arange(N).reshape(-1,1),b, income.reshape(-1,1)],axis=1),columns = ['uid','b0','b1','b2','income'])\n",
    "\n",
    "# error term, Gumbel(0,1)\n",
    "e = np.random.gumbel(size = N*K)\n",
    "\n",
    "\n",
    "data = user.merge(goods,how = 'cross')"
   ]
  },
  {
   "cell_type": "code",
   "execution_count": 12,
   "id": "c4f13f34",
   "metadata": {},
   "outputs": [],
   "source": [
    "# Generate N-K matrix\n",
    "\n",
    "data['e'] = e\n",
    "data['p/i'] = data['price']/data['income']\n",
    "data['u'] = data['b0']* data['quality'] - data['b1']* data['p/i'] + data['b2']* data['popularity'] + data['e']\n",
    "data['max_u'] = data.groupby('uid')['u'].transform('max')\n",
    "\n",
    "# Find consumer's choices based on utiilty maximization\n",
    "y = data.query('max_u == u')[['uid','gid']].rename({'gid':'y'},axis=1)\n",
    "data = data.merge(y)\n",
    "\n",
    "# Observed choices, one-hot vector, shape = (N *K,)\n",
    "data['choice'] = 0\n",
    "data.loc[data.query('y== gid').index,'choice']=1\n",
    "choice = np.array(data['choice'])\n",
    "\n",
    "\n",
    "# Observed X\n",
    "X = data[['quality','p/i','popularity']].values\n"
   ]
  },
  {
   "cell_type": "code",
   "execution_count": 13,
   "id": "ef3fc338",
   "metadata": {},
   "outputs": [
    {
     "data": {
      "text/plain": [
       "Counter({0.0: 2751, 3.0: 1988, 1.0: 125, 2.0: 136})"
      ]
     },
     "execution_count": 13,
     "metadata": {},
     "output_type": "execute_result"
    }
   ],
   "source": [
    "Counter(data.query('choice==1')['y'])"
   ]
  },
  {
   "cell_type": "markdown",
   "id": "4eed4986",
   "metadata": {},
   "source": [
    "### MSL"
   ]
  },
  {
   "cell_type": "code",
   "execution_count": 14,
   "id": "86beaa52",
   "metadata": {},
   "outputs": [],
   "source": [
    "# Observed X\n",
    "X = data[['quality','p/i','popularity']].values"
   ]
  },
  {
   "cell_type": "code",
   "execution_count": 15,
   "id": "e660eac2",
   "metadata": {},
   "outputs": [],
   "source": [
    "# Change price to -price, to ensure its coefficient is positive\n",
    "X[:,1] = -X[:,1]\n",
    "X = X.reshape(N,4,-1)"
   ]
  },
  {
   "cell_type": "code",
   "execution_count": 16,
   "id": "3b739f59",
   "metadata": {},
   "outputs": [],
   "source": [
    "def get_prob(params):\n",
    "    \"\"\"\n",
    "    Params: params-----> parameters in the model\n",
    "    Return: Log-likelihood function given parameters\n",
    "    \"\"\"\n",
    "    # Since sigma has to be positive, I use exponential form \n",
    "    params = np.exp(params)\n",
    "    b0 = np.random.lognormal(mean = params[0],sigma = params[1],size = [R,N,1])\n",
    "    b1 = np.random.lognormal(mean = params[2],sigma = params[3],size = [R,N,1])\n",
    "    b2 = np.random.normal(loc = params[4],scale = params[5], size = [R,N,1])\n",
    "    b = np.concatenate([b0,b1,b2],axis=2)\n",
    "    V = X@b.reshape(R,N,3,1)\n",
    "    pr = np.exp(V)\n",
    "    p = pr/pr.sum(axis=2,keepdims=True)\n",
    "    p_mean = p.mean(axis=0)\n",
    "    logp = np.log(p_mean)\n",
    "    outcome = data['choice'].values\n",
    "    prob = -logp.reshape(N,1,4)@(outcome.reshape(N,K,1))\n",
    "    return prob.sum()"
   ]
  },
  {
   "cell_type": "code",
   "execution_count": 17,
   "id": "3e87a63c",
   "metadata": {},
   "outputs": [],
   "source": [
    "def get_true_prob(params):\n",
    "    \"\"\"\n",
    "    Params: params-----> True parameters in the model\n",
    "    Return: Simulated Log-likelihood function under true parameters\n",
    "    \"\"\"\n",
    "    b0 = np.random.lognormal(mean = params[0],sigma = params[1],size = [R,N,1])\n",
    "    b1 = np.random.lognormal(mean = params[2],sigma = params[3],size = [R,N,1])\n",
    "    b2 = np.random.normal(loc = params[4],scale = params[5], size = [R,N,1])\n",
    "    b = np.concatenate([b0,b1,b2],axis=2)\n",
    "    V = X@b.reshape(R,N,3,1)\n",
    "    pr = np.exp(V)\n",
    "    p = pr/pr.sum(axis=2,keepdims=True)\n",
    "    p_mean = p.mean(axis=0)\n",
    "    logp = np.log(p_mean)\n",
    "    outcome = data['choice'].values\n",
    "    prob = -logp.reshape(N,1,4)@(outcome.reshape(N,K,1))\n",
    "    return prob.sum()"
   ]
  },
  {
   "cell_type": "code",
   "execution_count": 34,
   "id": "092720a2",
   "metadata": {},
   "outputs": [
    {
     "name": "stdout",
     "output_type": "stream",
     "text": [
      "  message: CONVERGENCE: REL_REDUCTION_OF_F_<=_FACTR*EPSMCH\n",
      "  success: True\n",
      "   status: 0\n",
      "      fun: 4391.878399151793\n",
      "        x: [-7.646e-01 -9.887e-01 -8.833e-01 -9.568e-01 -7.152e-01\n",
      "            -1.277e+00]\n",
      "      nit: 3\n",
      "      jac: [-2.739e+08 -1.715e+08 -2.263e+08 -4.271e+07 -3.576e+08\n",
      "             1.351e+08]\n",
      "     nfev: 217\n",
      "     njev: 31\n",
      " hess_inv: <6x6 LbfgsInvHessProduct with dtype=float64>\n"
     ]
    }
   ],
   "source": [
    "# Repeat 100 times \n",
    "R = 100\n",
    "params = np.random.normal(size=6,loc=-1,scale= .5)\n",
    "# params = np.random.uniform(size=6,low=.1,high=.9)\n",
    "\n",
    "### maximize simulated log-likelihood function\n",
    "res = opt.minimize(get_prob,x0=params,method= 'L-BFGS-B')\n",
    "print(res)"
   ]
  },
  {
   "cell_type": "code",
   "execution_count": 35,
   "id": "5ee5a160",
   "metadata": {},
   "outputs": [
    {
     "name": "stdout",
     "output_type": "stream",
     "text": [
      "Initial Parameters =  [0.46552444 0.37205835 0.41343528 0.38410375 0.48911697 0.27899909]\n"
     ]
    }
   ],
   "source": [
    "print('Initial Parameters = ',np.exp(params))"
   ]
  },
  {
   "cell_type": "code",
   "execution_count": 36,
   "id": "340a2502",
   "metadata": {},
   "outputs": [
    {
     "name": "stdout",
     "output_type": "stream",
     "text": [
      "Estimated Parameters =  [0.46552444 0.37205835 0.41343528 0.38410375 0.48911696 0.27899909]\n",
      "True Parameters =  [0.8, 0.7, 0.5, 0.8, 0.6, 0.5]\n",
      "Simulated log-likelihood  =  -4391.878399151793\n",
      "True log-likelihood =  -4365.710302319214\n"
     ]
    }
   ],
   "source": [
    "\n",
    "print('Estimated Parameters = ',np.exp(res.x))\n",
    "print('True Parameters = ',true_params)\n",
    "print('Simulated log-likelihood  = ',-res.fun)\n",
    "print('True log-likelihood = ',-get_true_prob(true_params))"
   ]
  },
  {
   "cell_type": "markdown",
   "id": "cc009a93",
   "metadata": {},
   "source": [
    "### MOM"
   ]
  },
  {
   "cell_type": "code",
   "execution_count": 25,
   "id": "b8be395d",
   "metadata": {},
   "outputs": [],
   "source": [
    "def m_condition(params):\n",
    "    \"\"\"\n",
    "    Params: params-----> True parameters in the model\n",
    "    Return: sum of the quadratic form of error term\n",
    "    \"\"\"\n",
    "    params = np.exp(params)\n",
    "    b0 = np.random.lognormal(mean = params[0],sigma = params[1],size = [R,N,1])\n",
    "    b1 = np.random.lognormal(mean = params[2],sigma = params[3],size = [R,N,1])\n",
    "    b2 = np.random.normal(loc = params[4],scale = params[5], size = [R,N,1])\n",
    "    b = np.concatenate([b0,b1,b2],axis=2)\n",
    "    V = X@b.reshape(R,N,3,1)\n",
    "    pr = np.exp(V)\n",
    "    p = pr/pr.sum(axis=2,keepdims=True)\n",
    "    p_mean = p.mean(axis=0)\n",
    "    outcome = data['choice'].values\n",
    "    error = choice.reshape(N,K,-1) - p_mean\n",
    "    res = (X.reshape(N,3,4)@error)**2\n",
    "    return res.sum()"
   ]
  },
  {
   "cell_type": "code",
   "execution_count": 37,
   "id": "f2470b20",
   "metadata": {},
   "outputs": [
    {
     "name": "stdout",
     "output_type": "stream",
     "text": [
      "  message: CONVERGENCE: REL_REDUCTION_OF_F_<=_FACTR*EPSMCH\n",
      "  success: True\n",
      "   status: 0\n",
      "      fun: 14791.561546050478\n",
      "        x: [-7.646e-01 -9.887e-01 -8.833e-01 -9.568e-01 -7.152e-01\n",
      "            -1.277e+00]\n",
      "      nit: 5\n",
      "      jac: [-2.510e+09 -1.127e+09 -3.085e+09  1.057e+08 -2.149e+08\n",
      "            -6.668e+08]\n",
      "     nfev: 252\n",
      "     njev: 36\n",
      " hess_inv: <6x6 LbfgsInvHessProduct with dtype=float64>\n"
     ]
    }
   ],
   "source": [
    "# Repeat R times \n",
    "### minimize simulated GMM error\n",
    "res = opt.minimize(m_condition,x0=params,method= 'L-BFGS-B')\n",
    "print(res)"
   ]
  },
  {
   "cell_type": "code",
   "execution_count": 38,
   "id": "c05c23e4",
   "metadata": {},
   "outputs": [
    {
     "name": "stdout",
     "output_type": "stream",
     "text": [
      "Initial Parameters =  [0.46552444 0.37205835 0.41343528 0.38410375 0.48911697 0.27899909]\n",
      "Estimated Parameters =  [0.46552449 0.3720583  0.4134353  0.38410371 0.48911692 0.27899907]\n",
      "True Parameters =  [0.8, 0.7, 0.5, 0.8, 0.6, 0.5]\n",
      "Simulated Error  =  14791.561546050478\n",
      "True Error =  14680.54344096777\n"
     ]
    }
   ],
   "source": [
    "print('Initial Parameters = ',np.exp(params))\n",
    "print('Estimated Parameters = ',np.exp(res.x))\n",
    "print('True Parameters = ',true_params)\n",
    "print('Simulated Error  = ',res.fun)\n",
    "print('True Error = ',m_condition(np.log(true_params)))"
   ]
  },
  {
   "cell_type": "code",
   "execution_count": null,
   "id": "abca94db",
   "metadata": {},
   "outputs": [],
   "source": []
  }
 ],
 "metadata": {
  "kernelspec": {
   "display_name": "Python 3 (ipykernel)",
   "language": "python",
   "name": "python3"
  },
  "language_info": {
   "codemirror_mode": {
    "name": "ipython",
    "version": 3
   },
   "file_extension": ".py",
   "mimetype": "text/x-python",
   "name": "python",
   "nbconvert_exporter": "python",
   "pygments_lexer": "ipython3",
   "version": "3.9.7"
  }
 },
 "nbformat": 4,
 "nbformat_minor": 5
}
