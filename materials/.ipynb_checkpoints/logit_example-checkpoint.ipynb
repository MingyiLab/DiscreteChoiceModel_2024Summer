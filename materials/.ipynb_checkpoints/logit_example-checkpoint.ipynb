{
 "cells": [
  {
   "cell_type": "markdown",
   "id": "4c1a900a",
   "metadata": {},
   "source": [
    "# Plain Logit\n",
    "## A simple example of estimating a plain logit model"
   ]
  },
  {
   "cell_type": "code",
   "execution_count": 1,
   "id": "b2239e79",
   "metadata": {},
   "outputs": [
    {
     "name": "stderr",
     "output_type": "stream",
     "text": [
      "/Users/limingyi/opt/anaconda3/lib/python3.9/site-packages/pandas/core/computation/expressions.py:21: UserWarning: Pandas requires version '2.8.4' or newer of 'numexpr' (version '2.7.3' currently installed).\n",
      "  from pandas.core.computation.check import NUMEXPR_INSTALLED\n",
      "/Users/limingyi/opt/anaconda3/lib/python3.9/site-packages/pandas/core/arrays/masked.py:60: UserWarning: Pandas requires version '1.3.6' or newer of 'bottleneck' (version '1.3.2' currently installed).\n",
      "  from pandas.core import (\n"
     ]
    }
   ],
   "source": [
    "# import packages\n",
    "import autograd.numpy as np\n",
    "from autograd import grad\n",
    "from autograd import hessian\n",
    "import scipy.optimize as opt\n",
    "import pandas as pd\n",
    "import matplotlib.pyplot as plt\n"
   ]
  },
  {
   "cell_type": "markdown",
   "id": "1e47b9dc",
   "metadata": {},
   "source": [
    "### Compare Gumbel distribution with different parameters"
   ]
  },
  {
   "cell_type": "code",
   "execution_count": 2,
   "id": "59faeeab",
   "metadata": {},
   "outputs": [],
   "source": [
    "np.random.seed(123)"
   ]
  },
  {
   "cell_type": "code",
   "execution_count": 3,
   "id": "5dcb2392",
   "metadata": {},
   "outputs": [],
   "source": [
    "# For simplicity, we random sample from the gumbel r.v. generator directly\n",
    "\n",
    "# Gumbel(0,1)\n",
    "gumbel = np.random.gumbel(size = 10000)"
   ]
  },
  {
   "cell_type": "code",
   "execution_count": 6,
   "id": "a17928d8",
   "metadata": {},
   "outputs": [
    {
     "name": "stdout",
     "output_type": "stream",
     "text": [
      "Variance =  1.6620493424413718\n"
     ]
    }
   ],
   "source": [
    "print(\"Variance = \", np.var(gumbel))"
   ]
  },
  {
   "cell_type": "markdown",
   "id": "40867228",
   "metadata": {},
   "source": [
    "A standard Gumbel distribution's variance, $$Var(X) = \\pi^2/6$$"
   ]
  },
  {
   "cell_type": "code",
   "execution_count": 5,
   "id": "81ec4436",
   "metadata": {},
   "outputs": [
    {
     "data": {
      "text/plain": [
       "1.6449340668482264"
      ]
     },
     "execution_count": 5,
     "metadata": {},
     "output_type": "execute_result"
    }
   ],
   "source": [
    "print(\"Analytical variance = \",(np.pi**2)/6)"
   ]
  },
  {
   "cell_type": "code",
   "execution_count": 7,
   "id": "4544624f",
   "metadata": {},
   "outputs": [
    {
     "data": {
      "image/png": "[encoded data removed]",
      "text/plain": [
       "<Figure size 432x288 with 1 Axes>"
      ]
     },
     "metadata": {
      "needs_background": "light"
     },
     "output_type": "display_data"
    }
   ],
   "source": [
    "# distribution\n",
    "plt.hist(gumbel, bins = 100, density=True);"
   ]
  },
  {
   "cell_type": "code",
   "execution_count": 8,
   "id": "5e590267",
   "metadata": {},
   "outputs": [],
   "source": [
    "gumbel = np.random.gumbel(loc = 0, scale = 2,size =10000)"
   ]
  },
  {
   "cell_type": "code",
   "execution_count": 9,
   "id": "20993e69",
   "metadata": {},
   "outputs": [
    {
     "data": {
      "image/png": "[encoded data removed]",
      "text/plain": [
       "<Figure size 432x288 with 1 Axes>"
      ]
     },
     "metadata": {
      "needs_background": "light"
     },
     "output_type": "display_data"
    }
   ],
   "source": [
    "# distribution\n",
    "plt.hist(gumbel, bins = 100, density=True);"
   ]
  },
  {
   "cell_type": "markdown",
   "id": "02a46440",
   "metadata": {},
   "source": [
    "When $X \\sim Gumbel(0,\\sigma)$, $Var(X)= \\frac{\\sigma^2 (\\pi^2)}{6}$"
   ]
  },
  {
   "cell_type": "code",
   "execution_count": 12,
   "id": "ef8b2d26",
   "metadata": {},
   "outputs": [
    {
     "data": {
      "text/plain": [
       "6.317964514441353"
      ]
     },
     "execution_count": 12,
     "metadata": {},
     "output_type": "execute_result"
    }
   ],
   "source": [
    "np.var(gumbel)"
   ]
  },
  {
   "cell_type": "markdown",
   "id": "96458309",
   "metadata": {},
   "source": [
    "## Utility function\n",
    "$$U_{ni} = \\alpha + \\frac{\\beta_1}{income_n}\\times price_i + \\beta_2 \\times quality_{i} + \\epsilon_{ni}$$"
   ]
  },
  {
   "cell_type": "code",
   "execution_count": 2,
   "id": "c1d82be9",
   "metadata": {},
   "outputs": [],
   "source": [
    "b = np.array([.4,-2.,1.2])\n",
    "\n",
    "uid = np.arange(1,5001)\n",
    "\n",
    "# To ensure income > 0 and avoid the case that income<<1 such that price/income goes to infinity\n",
    "income = np.random.uniform(low = 1, high = 3, size=5000)\n",
    "user = pd.DataFrame(data = np.concatenate([uid.reshape(-1,1), income.reshape(-1,1)],axis=1),columns=['uid','income'])"
   ]
  },
  {
   "cell_type": "code",
   "execution_count": 3,
   "id": "3bf37c72",
   "metadata": {},
   "outputs": [],
   "source": [
    "\n",
    "# five potential choices\n",
    "price = np.random.normal(loc = 0.,scale = 2, size = 5).reshape(-1,1)\n",
    "quality = np.random.normal( loc = 2.,scale = 3, size=5).reshape(-1,1)\n",
    "goods = pd.DataFrame(data = np.concatenate([np.arange(1,6).reshape(-1,1), price,quality],axis=1),columns = ['gid','p','q'])"
   ]
  },
  {
   "cell_type": "code",
   "execution_count": 4,
   "id": "1a5d88d6",
   "metadata": {},
   "outputs": [],
   "source": [
    "# UserID and GoodsID together uniquely define a row\n",
    "data = user.merge(goods,how='cross')"
   ]
  },
  {
   "cell_type": "code",
   "execution_count": 5,
   "id": "5f026194",
   "metadata": {},
   "outputs": [],
   "source": [
    "P = np.random.uniform(size = 25000)\n",
    "e = -np.log(-np.log(P))"
   ]
  },
  {
   "cell_type": "code",
   "execution_count": 6,
   "id": "0c271149",
   "metadata": {},
   "outputs": [],
   "source": [
    "data['e'] = e"
   ]
  },
  {
   "cell_type": "code",
   "execution_count": 7,
   "id": "42e0ec50",
   "metadata": {},
   "outputs": [],
   "source": [
    "data['con'] = 1"
   ]
  },
  {
   "cell_type": "code",
   "execution_count": 8,
   "id": "af8900e5",
   "metadata": {},
   "outputs": [],
   "source": [
    "data['p/i'] = data['p']/data['income']"
   ]
  },
  {
   "cell_type": "code",
   "execution_count": 9,
   "id": "52fef23b",
   "metadata": {},
   "outputs": [],
   "source": [
    "data['v'] = data[['con','p/i','q']].dot(b)"
   ]
  },
  {
   "cell_type": "code",
   "execution_count": 10,
   "id": "9521d633",
   "metadata": {},
   "outputs": [],
   "source": [
    "data['u'] = data['v'] + data['e']"
   ]
  },
  {
   "cell_type": "code",
   "execution_count": 11,
   "id": "1e0391be",
   "metadata": {},
   "outputs": [
    {
     "name": "stderr",
     "output_type": "stream",
     "text": [
      "/var/folders/vq/y8sw0dx95kg8d24dbz5s_kt80000gn/T/ipykernel_46244/3865488678.py:1: FutureWarning: The provided callable <built-in function max> is currently using SeriesGroupBy.max. In a future version of pandas, the provided callable will be used directly. To keep current behavior pass the string \"max\" instead.\n",
      "  data['max_u'] = data.groupby('uid')['u'].transform(max)\n"
     ]
    }
   ],
   "source": [
    "data['max_u'] = data.groupby('uid')['u'].transform(max)"
   ]
  },
  {
   "cell_type": "code",
   "execution_count": 12,
   "id": "73447e6a",
   "metadata": {},
   "outputs": [],
   "source": [
    "# Observed choice\n",
    "y = data.query('max_u == u')[['uid','gid']].rename({'gid':'y'},axis=1)\n",
    "data = data.merge(y)"
   ]
  },
  {
   "cell_type": "code",
   "execution_count": 13,
   "id": "97c1b973",
   "metadata": {},
   "outputs": [],
   "source": [
    "# Observed choice, one-hot encoding\n",
    "X = np.array(data[['con','p/i','q']].values)\n",
    "data['choice'] = 0\n",
    "data.loc[data.query('y== gid').index,'choice']=1\n",
    "choice = np.array(data['choice'])"
   ]
  },
  {
   "cell_type": "code",
   "execution_count": 92,
   "id": "bce376b5",
   "metadata": {},
   "outputs": [],
   "source": [
    "values = data[['uid','gid','con','p/i','q','choice']]\n",
    "values = values.values"
   ]
  },
  {
   "cell_type": "code",
   "execution_count": 94,
   "id": "3b3f2d31",
   "metadata": {},
   "outputs": [],
   "source": [
    "values = values.reshape(5000,5,-1)\n"
   ]
  },
  {
   "cell_type": "code",
   "execution_count": 97,
   "id": "d029d2df",
   "metadata": {},
   "outputs": [],
   "source": [
    "sample = values[:,:,2:]\n",
    "X = sample[:,:,:3]\n",
    "y = sample[:,:,-1]"
   ]
  },
  {
   "cell_type": "code",
   "execution_count": 100,
   "id": "5de69df4",
   "metadata": {},
   "outputs": [],
   "source": [
    "def get_ll(b):\n",
    "    \"\"\"\n",
    "    Params: parameters of the model\n",
    "    Return: Log-likelihood function of the entire sample\n",
    "    \"\"\"\n",
    "    prob = np.exp(X@b)\n",
    "    deno = prob.sum\n",
    "    deno = prob.sum(axis=1).reshape(5000,1)\n",
    "    l = np.log(prob/deno)\n",
    "    ll = (l*y).sum()\n",
    "    return -ll"
   ]
  },
  {
   "cell_type": "markdown",
   "id": "2436c0b9",
   "metadata": {},
   "source": [
    "## Maximum Likelihood Estimator\n",
    "### Good estimates for price and quality"
   ]
  },
  {
   "cell_type": "code",
   "execution_count": 101,
   "id": "d9cd7374",
   "metadata": {},
   "outputs": [
    {
     "name": "stdout",
     "output_type": "stream",
     "text": [
      "Estimated (beta1,beta2) =  [-2.03968793  1.24328003]\n",
      "True (beta1,beta2) =  [-2.   1.2]\n"
     ]
    }
   ],
   "source": [
    "# Use scipy.optimizer.minimize function and choose BFGS method\n",
    "res = opt.minimize(get_ll,x0=np.random.normal(size=3),method='BFGS')\n",
    "print('Estimated (beta1,beta2) = ', res.x[1:])\n",
    "print('True (beta1,beta2) = ',b[1:])"
   ]
  },
  {
   "cell_type": "code",
   "execution_count": 79,
   "id": "dd83e9d6",
   "metadata": {},
   "outputs": [],
   "source": [
    "import autograd.numpy as np\n",
    "from autograd import grad, hessian\n",
    "\n",
    "class BFGS:\n",
    "    \"\"\"\n",
    "    Description: This an example of a BFGS optimizer. \n",
    "    For faster convergence, I comment out the delta criterion\n",
    "    \"\"\"\n",
    "    def __init__(self, func, x, epsilon=1e-12):\n",
    "        self.func = func\n",
    "        self.x = np.array(x, dtype=float)\n",
    "        self.epsilon = epsilon\n",
    "#         self.delta = delta\n",
    "        self.H = np.eye(len(x))\n",
    "        self.grad_func = grad(func)\n",
    "        self.hessian_func = hessian(func)\n",
    "        \n",
    "    def line_search(self, s, c1=0.6, c2=0.8):\n",
    "        a = 0.3\n",
    "        fx = self.func(self.x)\n",
    "        grads = self.grad_func(self.x)\n",
    "        \n",
    "        while True:\n",
    "            new_x = self.x + a * s\n",
    "            new_grads = self.grad_func(new_x)\n",
    "            new_fx = self.func(new_x)\n",
    "            \n",
    "            if (new_fx <= fx + c1 * a * (grads.dot(s)) and \n",
    "                np.abs(new_grads.dot(s)) < np.abs(c2 * (grads.dot(s)))):\n",
    "                return a, new_x, new_grads,new_fx\n",
    "            a *= 2\n",
    "            if a > 4:\n",
    "                return 4, new_x, new_grads,new_fx\n",
    "\n",
    "    def update_hessian(self, z, y):\n",
    "        H = self.H\n",
    "        term1 = H - (H.dot(z.reshape(-1, 1)).dot(z.reshape(1, -1)).dot(H)) / (z.dot(H).dot(z))\n",
    "        term2 = (y.reshape(-1, 1).dot(y.reshape(1, -1))) / (y.dot(z))\n",
    "        return term1 + term2\n",
    "\n",
    "    def optimize(self):\n",
    "        while True:\n",
    "            fx = self.func(self.x)\n",
    "            grads = self.grad_func(self.x)\n",
    "            H = self.hessian_func(self.x)\n",
    "            s = np.linalg.solve(H, -grads.reshape(-1, 1)).flatten()\n",
    "            \n",
    "            lda, x_new, new_grads,new_fx = self.line_search(s)\n",
    "            z = lda * s\n",
    "            y = new_grads - grads\n",
    "            print('Current x: ',self.x)\n",
    "            self.x = x_new  # Update x to the new position calculated by line_search\n",
    "            self.H = self.update_hessian(z, y)\n",
    "\n",
    "            print('Current Log-likelihood: ', fx)\n",
    "            if (lda < 1e-8) or ((z**2).sum() < self.epsilon * (1 + (self.x**2).sum())):\n",
    "                print('Iteration ends')\n",
    "#                 if (grads**2).sum() > self.delta * (1 + np.abs(fx)):\n",
    "#                     print('Not optimum')\n",
    "#                 else:\n",
    "#                     print('Reached an optimum')\n",
    "                print('Success')\n",
    "                break\n",
    "\n"
   ]
  },
  {
   "cell_type": "code",
   "execution_count": 80,
   "id": "d3d64760",
   "metadata": {},
   "outputs": [
    {
     "name": "stdout",
     "output_type": "stream",
     "text": [
      "Current x:  [-1.41435211 -0.29728314  0.33395357]\n",
      "Current Log-likelihood:  -4931.07789299881\n",
      "Current x:  [36.39487866 -1.30895192  0.81933995]\n",
      "Current Log-likelihood:  -3202.787453872354\n",
      "Current x:  [38.06242993 -1.91732604  1.1132986 ]\n",
      "Current Log-likelihood:  -2985.3932027986725\n",
      "Current x:  [24.75222585 -1.96784868  1.21217654]\n",
      "Current Log-likelihood:  -2976.17646326326\n",
      "Current x:  [14.44983064 -1.92472101  1.21164827]\n",
      "Current Log-likelihood:  -2976.0916465956752\n",
      "Current x:  [ 9.5440672  -1.933371    1.21189231]\n",
      "Current Log-likelihood:  -2976.088152857904\n",
      "Current x:  [13.06124635 -1.93164522  1.21184843]\n",
      "Current Log-likelihood:  -2976.088014645794\n",
      "Current x:  [ 7.67896403 -1.93199052  1.2118574 ]\n",
      "Current Log-likelihood:  -2976.088009106078\n",
      "Current x:  [15.43820316 -1.93192147  1.21185561]\n",
      "Current Log-likelihood:  -2976.0880088845815\n",
      "Current x:  [31.90672103 -1.93193528  1.21185597]\n",
      "Current Log-likelihood:  -2976.088008875721\n",
      "Current x:  [52.27114554 -1.93193252  1.2118559 ]\n",
      "Current Log-likelihood:  -2976.088008875366\n"
     ]
    },
    {
     "ename": "KeyboardInterrupt",
     "evalue": "",
     "output_type": "error",
     "traceback": [
      "\u001b[0;31m---------------------------------------------------------------------------\u001b[0m",
      "\u001b[0;31mKeyboardInterrupt\u001b[0m                         Traceback (most recent call last)",
      "\u001b[0;32m/var/folders/vq/y8sw0dx95kg8d24dbz5s_kt80000gn/T/ipykernel_13775/216177319.py\u001b[0m in \u001b[0;36m<module>\u001b[0;34m\u001b[0m\n\u001b[1;32m      1\u001b[0m \u001b[0mbfgs\u001b[0m \u001b[0;34m=\u001b[0m \u001b[0mBFGS\u001b[0m\u001b[0;34m(\u001b[0m\u001b[0mfunc\u001b[0m\u001b[0;34m=\u001b[0m \u001b[0mget_ll\u001b[0m\u001b[0;34m,\u001b[0m \u001b[0mx\u001b[0m\u001b[0;34m=\u001b[0m\u001b[0mnp\u001b[0m\u001b[0;34m.\u001b[0m\u001b[0mrandom\u001b[0m\u001b[0;34m.\u001b[0m\u001b[0mnormal\u001b[0m\u001b[0;34m(\u001b[0m\u001b[0msize\u001b[0m\u001b[0;34m=\u001b[0m\u001b[0;36m3\u001b[0m\u001b[0;34m)\u001b[0m\u001b[0;34m)\u001b[0m\u001b[0;34m\u001b[0m\u001b[0;34m\u001b[0m\u001b[0m\n\u001b[0;32m----> 2\u001b[0;31m \u001b[0mbfgs\u001b[0m\u001b[0;34m.\u001b[0m\u001b[0moptimize\u001b[0m\u001b[0;34m(\u001b[0m\u001b[0;34m)\u001b[0m\u001b[0;34m\u001b[0m\u001b[0;34m\u001b[0m\u001b[0m\n\u001b[0m",
      "\u001b[0;32m/var/folders/vq/y8sw0dx95kg8d24dbz5s_kt80000gn/T/ipykernel_13775/695780561.py\u001b[0m in \u001b[0;36moptimize\u001b[0;34m(self)\u001b[0m\n\u001b[1;32m     42\u001b[0m             \u001b[0ms\u001b[0m \u001b[0;34m=\u001b[0m \u001b[0mnp\u001b[0m\u001b[0;34m.\u001b[0m\u001b[0mlinalg\u001b[0m\u001b[0;34m.\u001b[0m\u001b[0msolve\u001b[0m\u001b[0;34m(\u001b[0m\u001b[0mH\u001b[0m\u001b[0;34m,\u001b[0m \u001b[0;34m-\u001b[0m\u001b[0mgrads\u001b[0m\u001b[0;34m.\u001b[0m\u001b[0mreshape\u001b[0m\u001b[0;34m(\u001b[0m\u001b[0;34m-\u001b[0m\u001b[0;36m1\u001b[0m\u001b[0;34m,\u001b[0m \u001b[0;36m1\u001b[0m\u001b[0;34m)\u001b[0m\u001b[0;34m)\u001b[0m\u001b[0;34m.\u001b[0m\u001b[0mflatten\u001b[0m\u001b[0;34m(\u001b[0m\u001b[0;34m)\u001b[0m\u001b[0;34m\u001b[0m\u001b[0;34m\u001b[0m\u001b[0m\n\u001b[1;32m     43\u001b[0m \u001b[0;34m\u001b[0m\u001b[0m\n\u001b[0;32m---> 44\u001b[0;31m             \u001b[0mlda\u001b[0m\u001b[0;34m,\u001b[0m \u001b[0mx_new\u001b[0m\u001b[0;34m,\u001b[0m \u001b[0mnew_grads\u001b[0m\u001b[0;34m,\u001b[0m\u001b[0mnew_fx\u001b[0m \u001b[0;34m=\u001b[0m \u001b[0mself\u001b[0m\u001b[0;34m.\u001b[0m\u001b[0mline_search\u001b[0m\u001b[0;34m(\u001b[0m\u001b[0ms\u001b[0m\u001b[0;34m)\u001b[0m\u001b[0;34m\u001b[0m\u001b[0;34m\u001b[0m\u001b[0m\n\u001b[0m\u001b[1;32m     45\u001b[0m             \u001b[0mz\u001b[0m \u001b[0;34m=\u001b[0m \u001b[0mlda\u001b[0m \u001b[0;34m*\u001b[0m \u001b[0ms\u001b[0m\u001b[0;34m\u001b[0m\u001b[0;34m\u001b[0m\u001b[0m\n\u001b[1;32m     46\u001b[0m             \u001b[0my\u001b[0m \u001b[0;34m=\u001b[0m \u001b[0mnew_grads\u001b[0m \u001b[0;34m-\u001b[0m \u001b[0mgrads\u001b[0m\u001b[0;34m\u001b[0m\u001b[0;34m\u001b[0m\u001b[0m\n",
      "\u001b[0;32m/var/folders/vq/y8sw0dx95kg8d24dbz5s_kt80000gn/T/ipykernel_13775/695780561.py\u001b[0m in \u001b[0;36mline_search\u001b[0;34m(self, s, c1, c2)\u001b[0m\n\u001b[1;32m     15\u001b[0m         \u001b[0ma\u001b[0m \u001b[0;34m=\u001b[0m \u001b[0;36m0.3\u001b[0m\u001b[0;34m\u001b[0m\u001b[0;34m\u001b[0m\u001b[0m\n\u001b[1;32m     16\u001b[0m         \u001b[0mfx\u001b[0m \u001b[0;34m=\u001b[0m \u001b[0mself\u001b[0m\u001b[0;34m.\u001b[0m\u001b[0mfunc\u001b[0m\u001b[0;34m(\u001b[0m\u001b[0mself\u001b[0m\u001b[0;34m.\u001b[0m\u001b[0mx\u001b[0m\u001b[0;34m)\u001b[0m\u001b[0;34m\u001b[0m\u001b[0;34m\u001b[0m\u001b[0m\n\u001b[0;32m---> 17\u001b[0;31m         \u001b[0mgrads\u001b[0m \u001b[0;34m=\u001b[0m \u001b[0mself\u001b[0m\u001b[0;34m.\u001b[0m\u001b[0mgrad_func\u001b[0m\u001b[0;34m(\u001b[0m\u001b[0mself\u001b[0m\u001b[0;34m.\u001b[0m\u001b[0mx\u001b[0m\u001b[0;34m)\u001b[0m\u001b[0;34m\u001b[0m\u001b[0;34m\u001b[0m\u001b[0m\n\u001b[0m\u001b[1;32m     18\u001b[0m \u001b[0;34m\u001b[0m\u001b[0m\n\u001b[1;32m     19\u001b[0m         \u001b[0;32mwhile\u001b[0m \u001b[0;32mTrue\u001b[0m\u001b[0;34m:\u001b[0m\u001b[0;34m\u001b[0m\u001b[0;34m\u001b[0m\u001b[0m\n",
      "\u001b[0;32m~/opt/anaconda3/lib/python3.9/site-packages/autograd/wrap_util.py\u001b[0m in \u001b[0;36mnary_f\u001b[0;34m(*args, **kwargs)\u001b[0m\n\u001b[1;32m     18\u001b[0m             \u001b[0;32melse\u001b[0m\u001b[0;34m:\u001b[0m\u001b[0;34m\u001b[0m\u001b[0;34m\u001b[0m\u001b[0m\n\u001b[1;32m     19\u001b[0m                 \u001b[0mx\u001b[0m \u001b[0;34m=\u001b[0m \u001b[0mtuple\u001b[0m\u001b[0;34m(\u001b[0m\u001b[0margs\u001b[0m\u001b[0;34m[\u001b[0m\u001b[0mi\u001b[0m\u001b[0;34m]\u001b[0m \u001b[0;32mfor\u001b[0m \u001b[0mi\u001b[0m \u001b[0;32min\u001b[0m \u001b[0margnum\u001b[0m\u001b[0;34m)\u001b[0m\u001b[0;34m\u001b[0m\u001b[0;34m\u001b[0m\u001b[0m\n\u001b[0;32m---> 20\u001b[0;31m             \u001b[0;32mreturn\u001b[0m \u001b[0munary_operator\u001b[0m\u001b[0;34m(\u001b[0m\u001b[0munary_f\u001b[0m\u001b[0;34m,\u001b[0m \u001b[0mx\u001b[0m\u001b[0;34m,\u001b[0m \u001b[0;34m*\u001b[0m\u001b[0mnary_op_args\u001b[0m\u001b[0;34m,\u001b[0m \u001b[0;34m**\u001b[0m\u001b[0mnary_op_kwargs\u001b[0m\u001b[0;34m)\u001b[0m\u001b[0;34m\u001b[0m\u001b[0;34m\u001b[0m\u001b[0m\n\u001b[0m\u001b[1;32m     21\u001b[0m         \u001b[0;32mreturn\u001b[0m \u001b[0mnary_f\u001b[0m\u001b[0;34m\u001b[0m\u001b[0;34m\u001b[0m\u001b[0m\n\u001b[1;32m     22\u001b[0m     \u001b[0;32mreturn\u001b[0m \u001b[0mnary_operator\u001b[0m\u001b[0;34m\u001b[0m\u001b[0;34m\u001b[0m\u001b[0m\n",
      "\u001b[0;32m~/opt/anaconda3/lib/python3.9/site-packages/autograd/differential_operators.py\u001b[0m in \u001b[0;36mgrad\u001b[0;34m(fun, x)\u001b[0m\n\u001b[1;32m     30\u001b[0m         raise TypeError(\"Grad only applies to real scalar-output functions. \"\n\u001b[1;32m     31\u001b[0m                         \"Try jacobian, elementwise_grad or holomorphic_grad.\")\n\u001b[0;32m---> 32\u001b[0;31m     \u001b[0;32mreturn\u001b[0m \u001b[0mvjp\u001b[0m\u001b[0;34m(\u001b[0m\u001b[0mvspace\u001b[0m\u001b[0;34m(\u001b[0m\u001b[0mans\u001b[0m\u001b[0;34m)\u001b[0m\u001b[0;34m.\u001b[0m\u001b[0mones\u001b[0m\u001b[0;34m(\u001b[0m\u001b[0;34m)\u001b[0m\u001b[0;34m)\u001b[0m\u001b[0;34m\u001b[0m\u001b[0;34m\u001b[0m\u001b[0m\n\u001b[0m\u001b[1;32m     33\u001b[0m \u001b[0;34m\u001b[0m\u001b[0m\n\u001b[1;32m     34\u001b[0m \u001b[0;34m@\u001b[0m\u001b[0munary_to_nary\u001b[0m\u001b[0;34m\u001b[0m\u001b[0;34m\u001b[0m\u001b[0m\n",
      "\u001b[0;32m~/opt/anaconda3/lib/python3.9/site-packages/autograd/core.py\u001b[0m in \u001b[0;36mvjp\u001b[0;34m(g)\u001b[0m\n\u001b[1;32m     12\u001b[0m         \u001b[0;32mdef\u001b[0m \u001b[0mvjp\u001b[0m\u001b[0;34m(\u001b[0m\u001b[0mg\u001b[0m\u001b[0;34m)\u001b[0m\u001b[0;34m:\u001b[0m \u001b[0;32mreturn\u001b[0m \u001b[0mvspace\u001b[0m\u001b[0;34m(\u001b[0m\u001b[0mx\u001b[0m\u001b[0;34m)\u001b[0m\u001b[0;34m.\u001b[0m\u001b[0mzeros\u001b[0m\u001b[0;34m(\u001b[0m\u001b[0;34m)\u001b[0m\u001b[0;34m\u001b[0m\u001b[0;34m\u001b[0m\u001b[0m\n\u001b[1;32m     13\u001b[0m     \u001b[0;32melse\u001b[0m\u001b[0;34m:\u001b[0m\u001b[0;34m\u001b[0m\u001b[0;34m\u001b[0m\u001b[0m\n\u001b[0;32m---> 14\u001b[0;31m         \u001b[0;32mdef\u001b[0m \u001b[0mvjp\u001b[0m\u001b[0;34m(\u001b[0m\u001b[0mg\u001b[0m\u001b[0;34m)\u001b[0m\u001b[0;34m:\u001b[0m \u001b[0;32mreturn\u001b[0m \u001b[0mbackward_pass\u001b[0m\u001b[0;34m(\u001b[0m\u001b[0mg\u001b[0m\u001b[0;34m,\u001b[0m \u001b[0mend_node\u001b[0m\u001b[0;34m)\u001b[0m\u001b[0;34m\u001b[0m\u001b[0;34m\u001b[0m\u001b[0m\n\u001b[0m\u001b[1;32m     15\u001b[0m     \u001b[0;32mreturn\u001b[0m \u001b[0mvjp\u001b[0m\u001b[0;34m,\u001b[0m \u001b[0mend_value\u001b[0m\u001b[0;34m\u001b[0m\u001b[0;34m\u001b[0m\u001b[0m\n\u001b[1;32m     16\u001b[0m \u001b[0;34m\u001b[0m\u001b[0m\n",
      "\u001b[0;32m~/opt/anaconda3/lib/python3.9/site-packages/autograd/core.py\u001b[0m in \u001b[0;36mbackward_pass\u001b[0;34m(g, end_node)\u001b[0m\n\u001b[1;32m     19\u001b[0m     \u001b[0;32mfor\u001b[0m \u001b[0mnode\u001b[0m \u001b[0;32min\u001b[0m \u001b[0mtoposort\u001b[0m\u001b[0;34m(\u001b[0m\u001b[0mend_node\u001b[0m\u001b[0;34m)\u001b[0m\u001b[0;34m:\u001b[0m\u001b[0;34m\u001b[0m\u001b[0;34m\u001b[0m\u001b[0m\n\u001b[1;32m     20\u001b[0m         \u001b[0moutgrad\u001b[0m \u001b[0;34m=\u001b[0m \u001b[0moutgrads\u001b[0m\u001b[0;34m.\u001b[0m\u001b[0mpop\u001b[0m\u001b[0;34m(\u001b[0m\u001b[0mnode\u001b[0m\u001b[0;34m)\u001b[0m\u001b[0;34m\u001b[0m\u001b[0;34m\u001b[0m\u001b[0m\n\u001b[0;32m---> 21\u001b[0;31m         \u001b[0mingrads\u001b[0m \u001b[0;34m=\u001b[0m \u001b[0mnode\u001b[0m\u001b[0;34m.\u001b[0m\u001b[0mvjp\u001b[0m\u001b[0;34m(\u001b[0m\u001b[0moutgrad\u001b[0m\u001b[0;34m[\u001b[0m\u001b[0;36m0\u001b[0m\u001b[0;34m]\u001b[0m\u001b[0;34m)\u001b[0m\u001b[0;34m\u001b[0m\u001b[0;34m\u001b[0m\u001b[0m\n\u001b[0m\u001b[1;32m     22\u001b[0m         \u001b[0;32mfor\u001b[0m \u001b[0mparent\u001b[0m\u001b[0;34m,\u001b[0m \u001b[0mingrad\u001b[0m \u001b[0;32min\u001b[0m \u001b[0mzip\u001b[0m\u001b[0;34m(\u001b[0m\u001b[0mnode\u001b[0m\u001b[0;34m.\u001b[0m\u001b[0mparents\u001b[0m\u001b[0;34m,\u001b[0m \u001b[0mingrads\u001b[0m\u001b[0;34m)\u001b[0m\u001b[0;34m:\u001b[0m\u001b[0;34m\u001b[0m\u001b[0;34m\u001b[0m\u001b[0m\n\u001b[1;32m     23\u001b[0m             \u001b[0moutgrads\u001b[0m\u001b[0;34m[\u001b[0m\u001b[0mparent\u001b[0m\u001b[0;34m]\u001b[0m \u001b[0;34m=\u001b[0m \u001b[0madd_outgrads\u001b[0m\u001b[0;34m(\u001b[0m\u001b[0moutgrads\u001b[0m\u001b[0;34m.\u001b[0m\u001b[0mget\u001b[0m\u001b[0;34m(\u001b[0m\u001b[0mparent\u001b[0m\u001b[0;34m)\u001b[0m\u001b[0;34m,\u001b[0m \u001b[0mingrad\u001b[0m\u001b[0;34m)\u001b[0m\u001b[0;34m\u001b[0m\u001b[0;34m\u001b[0m\u001b[0m\n",
      "\u001b[0;32m~/opt/anaconda3/lib/python3.9/site-packages/autograd/core.py\u001b[0m in \u001b[0;36m<lambda>\u001b[0;34m(g)\u001b[0m\n\u001b[1;32m     65\u001b[0m                     \"VJP of {} wrt argnum 0 not defined\".format(fun.__name__))\n\u001b[1;32m     66\u001b[0m             \u001b[0mvjp\u001b[0m \u001b[0;34m=\u001b[0m \u001b[0mvjpfun\u001b[0m\u001b[0;34m(\u001b[0m\u001b[0mans\u001b[0m\u001b[0;34m,\u001b[0m \u001b[0;34m*\u001b[0m\u001b[0margs\u001b[0m\u001b[0;34m,\u001b[0m \u001b[0;34m**\u001b[0m\u001b[0mkwargs\u001b[0m\u001b[0;34m)\u001b[0m\u001b[0;34m\u001b[0m\u001b[0;34m\u001b[0m\u001b[0m\n\u001b[0;32m---> 67\u001b[0;31m             \u001b[0;32mreturn\u001b[0m \u001b[0;32mlambda\u001b[0m \u001b[0mg\u001b[0m\u001b[0;34m:\u001b[0m \u001b[0;34m(\u001b[0m\u001b[0mvjp\u001b[0m\u001b[0;34m(\u001b[0m\u001b[0mg\u001b[0m\u001b[0;34m)\u001b[0m\u001b[0;34m,\u001b[0m\u001b[0;34m)\u001b[0m\u001b[0;34m\u001b[0m\u001b[0;34m\u001b[0m\u001b[0m\n\u001b[0m\u001b[1;32m     68\u001b[0m         \u001b[0;32melif\u001b[0m \u001b[0mL\u001b[0m \u001b[0;34m==\u001b[0m \u001b[0;36m2\u001b[0m\u001b[0;34m:\u001b[0m\u001b[0;34m\u001b[0m\u001b[0;34m\u001b[0m\u001b[0m\n\u001b[1;32m     69\u001b[0m             \u001b[0margnum_0\u001b[0m\u001b[0;34m,\u001b[0m \u001b[0margnum_1\u001b[0m \u001b[0;34m=\u001b[0m \u001b[0margnums\u001b[0m\u001b[0;34m\u001b[0m\u001b[0;34m\u001b[0m\u001b[0m\n",
      "\u001b[0;32m~/opt/anaconda3/lib/python3.9/site-packages/autograd/numpy/numpy_vjps.py\u001b[0m in \u001b[0;36m<lambda>\u001b[0;34m(g)\u001b[0m\n\u001b[1;32m    297\u001b[0m \u001b[0;32mdef\u001b[0m \u001b[0mgrad_np_sum\u001b[0m\u001b[0;34m(\u001b[0m\u001b[0mans\u001b[0m\u001b[0;34m,\u001b[0m \u001b[0mx\u001b[0m\u001b[0;34m,\u001b[0m \u001b[0maxis\u001b[0m\u001b[0;34m=\u001b[0m\u001b[0;32mNone\u001b[0m\u001b[0;34m,\u001b[0m \u001b[0mkeepdims\u001b[0m\u001b[0;34m=\u001b[0m\u001b[0;32mFalse\u001b[0m\u001b[0;34m,\u001b[0m \u001b[0mdtype\u001b[0m\u001b[0;34m=\u001b[0m\u001b[0;32mNone\u001b[0m\u001b[0;34m)\u001b[0m\u001b[0;34m:\u001b[0m\u001b[0;34m\u001b[0m\u001b[0;34m\u001b[0m\u001b[0m\n\u001b[1;32m    298\u001b[0m     \u001b[0mshape\u001b[0m\u001b[0;34m,\u001b[0m \u001b[0mdtype\u001b[0m \u001b[0;34m=\u001b[0m \u001b[0manp\u001b[0m\u001b[0;34m.\u001b[0m\u001b[0mshape\u001b[0m\u001b[0;34m(\u001b[0m\u001b[0mx\u001b[0m\u001b[0;34m)\u001b[0m\u001b[0;34m,\u001b[0m \u001b[0manp\u001b[0m\u001b[0;34m.\u001b[0m\u001b[0mresult_type\u001b[0m\u001b[0;34m(\u001b[0m\u001b[0mx\u001b[0m\u001b[0;34m)\u001b[0m\u001b[0;34m\u001b[0m\u001b[0;34m\u001b[0m\u001b[0m\n\u001b[0;32m--> 299\u001b[0;31m     \u001b[0;32mreturn\u001b[0m \u001b[0;32mlambda\u001b[0m \u001b[0mg\u001b[0m\u001b[0;34m:\u001b[0m \u001b[0mrepeat_to_match_shape\u001b[0m\u001b[0;34m(\u001b[0m\u001b[0mg\u001b[0m\u001b[0;34m,\u001b[0m \u001b[0mshape\u001b[0m\u001b[0;34m,\u001b[0m \u001b[0mdtype\u001b[0m\u001b[0;34m,\u001b[0m \u001b[0maxis\u001b[0m\u001b[0;34m,\u001b[0m \u001b[0mkeepdims\u001b[0m\u001b[0;34m)\u001b[0m\u001b[0;34m[\u001b[0m\u001b[0;36m0\u001b[0m\u001b[0;34m]\u001b[0m\u001b[0;34m\u001b[0m\u001b[0;34m\u001b[0m\u001b[0m\n\u001b[0m\u001b[1;32m    300\u001b[0m \u001b[0mdefvjp\u001b[0m\u001b[0;34m(\u001b[0m\u001b[0manp\u001b[0m\u001b[0;34m.\u001b[0m\u001b[0msum\u001b[0m\u001b[0;34m,\u001b[0m \u001b[0mgrad_np_sum\u001b[0m\u001b[0;34m)\u001b[0m\u001b[0;34m\u001b[0m\u001b[0;34m\u001b[0m\u001b[0m\n\u001b[1;32m    301\u001b[0m \u001b[0;34m\u001b[0m\u001b[0m\n",
      "\u001b[0;32m~/opt/anaconda3/lib/python3.9/site-packages/autograd/numpy/numpy_vjps.py\u001b[0m in \u001b[0;36mrepeat_to_match_shape\u001b[0;34m(g, shape, dtype, axis, keepdims)\u001b[0m\n\u001b[1;32m    283\u001b[0m     \u001b[0;31m# Can't use broadcast_to because of numpy bug: https://github.com/numpy/numpy/issues/9165\u001b[0m\u001b[0;34m\u001b[0m\u001b[0;34m\u001b[0m\u001b[0m\n\u001b[1;32m    284\u001b[0m     \u001b[0;31m# return anp.broadcast_to(anp.reshape(g, new_shape), shape), num_reps\u001b[0m\u001b[0;34m\u001b[0m\u001b[0;34m\u001b[0m\u001b[0m\n\u001b[0;32m--> 285\u001b[0;31m     \u001b[0;32mreturn\u001b[0m \u001b[0manp\u001b[0m\u001b[0;34m.\u001b[0m\u001b[0mreshape\u001b[0m\u001b[0;34m(\u001b[0m\u001b[0mg\u001b[0m\u001b[0;34m,\u001b[0m \u001b[0mnew_shape\u001b[0m\u001b[0;34m)\u001b[0m \u001b[0;34m+\u001b[0m \u001b[0monp\u001b[0m\u001b[0;34m.\u001b[0m\u001b[0mzeros\u001b[0m\u001b[0;34m(\u001b[0m\u001b[0mshape\u001b[0m\u001b[0;34m,\u001b[0m \u001b[0mdtype\u001b[0m\u001b[0;34m=\u001b[0m\u001b[0mdtype\u001b[0m\u001b[0;34m)\u001b[0m\u001b[0;34m,\u001b[0m \u001b[0mnum_reps\u001b[0m\u001b[0;34m\u001b[0m\u001b[0;34m\u001b[0m\u001b[0m\n\u001b[0m\u001b[1;32m    286\u001b[0m \u001b[0;34m\u001b[0m\u001b[0m\n\u001b[1;32m    287\u001b[0m \u001b[0;32mdef\u001b[0m \u001b[0mgrad_broadcast_to\u001b[0m\u001b[0;34m(\u001b[0m\u001b[0mans\u001b[0m\u001b[0;34m,\u001b[0m \u001b[0mx\u001b[0m\u001b[0;34m,\u001b[0m \u001b[0mnew_shape\u001b[0m\u001b[0;34m)\u001b[0m\u001b[0;34m:\u001b[0m\u001b[0;34m\u001b[0m\u001b[0;34m\u001b[0m\u001b[0m\n",
      "\u001b[0;32m~/opt/anaconda3/lib/python3.9/site-packages/autograd/tracer.py\u001b[0m in \u001b[0;36mf_wrapped\u001b[0;34m(*args, **kwargs)\u001b[0m\n\u001b[1;32m     46\u001b[0m             \u001b[0;32mreturn\u001b[0m \u001b[0mnew_box\u001b[0m\u001b[0;34m(\u001b[0m\u001b[0mans\u001b[0m\u001b[0;34m,\u001b[0m \u001b[0mtrace\u001b[0m\u001b[0;34m,\u001b[0m \u001b[0mnode\u001b[0m\u001b[0;34m)\u001b[0m\u001b[0;34m\u001b[0m\u001b[0;34m\u001b[0m\u001b[0m\n\u001b[1;32m     47\u001b[0m         \u001b[0;32melse\u001b[0m\u001b[0;34m:\u001b[0m\u001b[0;34m\u001b[0m\u001b[0;34m\u001b[0m\u001b[0m\n\u001b[0;32m---> 48\u001b[0;31m             \u001b[0;32mreturn\u001b[0m \u001b[0mf_raw\u001b[0m\u001b[0;34m(\u001b[0m\u001b[0;34m*\u001b[0m\u001b[0margs\u001b[0m\u001b[0;34m,\u001b[0m \u001b[0;34m**\u001b[0m\u001b[0mkwargs\u001b[0m\u001b[0;34m)\u001b[0m\u001b[0;34m\u001b[0m\u001b[0;34m\u001b[0m\u001b[0m\n\u001b[0m\u001b[1;32m     49\u001b[0m     \u001b[0mf_wrapped\u001b[0m\u001b[0;34m.\u001b[0m\u001b[0mfun\u001b[0m \u001b[0;34m=\u001b[0m \u001b[0mf_raw\u001b[0m\u001b[0;34m\u001b[0m\u001b[0;34m\u001b[0m\u001b[0m\n\u001b[1;32m     50\u001b[0m     \u001b[0mf_wrapped\u001b[0m\u001b[0;34m.\u001b[0m\u001b[0m_is_autograd_primitive\u001b[0m \u001b[0;34m=\u001b[0m \u001b[0;32mTrue\u001b[0m\u001b[0;34m\u001b[0m\u001b[0;34m\u001b[0m\u001b[0m\n",
      "\u001b[0;32m~/opt/anaconda3/lib/python3.9/site-packages/numpy/core/overrides.py\u001b[0m in \u001b[0;36mreshape\u001b[0;34m(*args, **kwargs)\u001b[0m\n",
      "\u001b[0;32m~/opt/anaconda3/lib/python3.9/site-packages/numpy/core/fromnumeric.py\u001b[0m in \u001b[0;36mreshape\u001b[0;34m(a, newshape, order)\u001b[0m\n\u001b[1;32m    296\u001b[0m            [5, 6]])\n\u001b[1;32m    297\u001b[0m     \"\"\"\n\u001b[0;32m--> 298\u001b[0;31m     \u001b[0;32mreturn\u001b[0m \u001b[0m_wrapfunc\u001b[0m\u001b[0;34m(\u001b[0m\u001b[0ma\u001b[0m\u001b[0;34m,\u001b[0m \u001b[0;34m'reshape'\u001b[0m\u001b[0;34m,\u001b[0m \u001b[0mnewshape\u001b[0m\u001b[0;34m,\u001b[0m \u001b[0morder\u001b[0m\u001b[0;34m=\u001b[0m\u001b[0morder\u001b[0m\u001b[0;34m)\u001b[0m\u001b[0;34m\u001b[0m\u001b[0;34m\u001b[0m\u001b[0m\n\u001b[0m\u001b[1;32m    299\u001b[0m \u001b[0;34m\u001b[0m\u001b[0m\n\u001b[1;32m    300\u001b[0m \u001b[0;34m\u001b[0m\u001b[0m\n",
      "\u001b[0;32m~/opt/anaconda3/lib/python3.9/site-packages/numpy/core/fromnumeric.py\u001b[0m in \u001b[0;36m_wrapfunc\u001b[0;34m(obj, method, *args, **kwds)\u001b[0m\n\u001b[1;32m     55\u001b[0m \u001b[0;34m\u001b[0m\u001b[0m\n\u001b[1;32m     56\u001b[0m     \u001b[0;32mtry\u001b[0m\u001b[0;34m:\u001b[0m\u001b[0;34m\u001b[0m\u001b[0;34m\u001b[0m\u001b[0m\n\u001b[0;32m---> 57\u001b[0;31m         \u001b[0;32mreturn\u001b[0m \u001b[0mbound\u001b[0m\u001b[0;34m(\u001b[0m\u001b[0;34m*\u001b[0m\u001b[0margs\u001b[0m\u001b[0;34m,\u001b[0m \u001b[0;34m**\u001b[0m\u001b[0mkwds\u001b[0m\u001b[0;34m)\u001b[0m\u001b[0;34m\u001b[0m\u001b[0;34m\u001b[0m\u001b[0m\n\u001b[0m\u001b[1;32m     58\u001b[0m     \u001b[0;32mexcept\u001b[0m \u001b[0mTypeError\u001b[0m\u001b[0;34m:\u001b[0m\u001b[0;34m\u001b[0m\u001b[0;34m\u001b[0m\u001b[0m\n\u001b[1;32m     59\u001b[0m         \u001b[0;31m# A TypeError occurs if the object does have such a method in its\u001b[0m\u001b[0;34m\u001b[0m\u001b[0;34m\u001b[0m\u001b[0m\n",
      "\u001b[0;31mKeyboardInterrupt\u001b[0m: "
     ]
    }
   ],
   "source": [
    "bfgs = BFGS(func= get_ll, x=np.random.normal(size=3))\n",
    "bfgs.optimize()\n",
    "# watch convergence "
   ]
  },
  {
   "cell_type": "markdown",
   "id": "2545b005",
   "metadata": {},
   "source": [
    "$$\n",
    "Asymptotic~property: \\sqrt{N}(\\hat{\\beta} - \\beta) \\sim N(0, E(-H_i)^{-1})\\equiv N(0, V)\\\\\n",
    "\\text{In the sample analog,} \\hat{V} = (-\\frac1N\\sum_i^N\\hat{H_i})^{-1} = N(-\\sum_i^N \\hat{H_i})^{-1} = N \\hat{H}^{-1}\\\\\n",
    "\\therefore \\hat{aVar}(\\beta) = N \\hat{H}^{-1}/N = \\hat{H}^{-1}\n",
    "$$\n"
   ]
  },
  {
   "cell_type": "code",
   "execution_count": 90,
   "id": "fe013f0f",
   "metadata": {},
   "outputs": [],
   "source": [
    "# Due to the positive-definite property, we use cholesky decomposition, that is, H = e'e, where e is the low-triangular error matrix\n",
    "se = np.linalg.cholesky(res.hess_inv)\n",
    "x_lb = np.zeros(3)\n",
    "x_ub = np.zeros(3)\n",
    "for i in range(3):\n",
    "    x_lb[i] = res.x[i] - 1.96 * se[i,i]\n",
    "    x_ub[i] = res.x[i] + 1.96 * se[i,i]"
   ]
  },
  {
   "cell_type": "code",
   "execution_count": 91,
   "id": "be947202",
   "metadata": {},
   "outputs": [
    {
     "data": {
      "text/plain": [
       "<matplotlib.lines.Line2D at 0x7f8452654b80>"
      ]
     },
     "execution_count": 91,
     "metadata": {},
     "output_type": "execute_result"
    },
    {
     "data": {
      "image/png": "[encoded data removed]",
      "text/plain": [
       "<Figure size 432x288 with 1 Axes>"
      ]
     },
     "metadata": {
      "needs_background": "light"
     },
     "output_type": "display_data"
    }
   ],
   "source": [
    "# Coefficients\n",
    "x = np.arange(3)\n",
    "fig,ax = plt.subplots(1,1)\n",
    "ax.plot(x,res.x);\n",
    "ax.fill_between(x,y1 = x_lb, y2 = x_ub,alpha = .2);\n",
    "ax.set_xticks([0,1,2])\n",
    "ax.set_xticklabels(['Constant','Price/Income','Quality']);\n",
    "ax.axhline(y= 0,color = 'red')\n"
   ]
  },
  {
   "cell_type": "markdown",
   "id": "bb1693eb",
   "metadata": {},
   "source": [
    "### Bootstrap error"
   ]
  },
  {
   "cell_type": "code",
   "execution_count": 124,
   "id": "c601a93c",
   "metadata": {},
   "outputs": [],
   "source": [
    "#  100 times bootstrap\n",
    "betas = []\n",
    "for _ in range(100):\n",
    "    random_idx = np.random.randint(0,sample.shape[0],size=5000)\n",
    "    random_sample = sample[random_idx]\n",
    "    res = opt.minimize(get_ll,x0=np.random.normal(size=3),method='BFGS')\n",
    "    betas.append(res.x)"
   ]
  },
  {
   "cell_type": "code",
   "execution_count": 127,
   "id": "06632ead",
   "metadata": {},
   "outputs": [],
   "source": [
    "betas = np.array(betas)"
   ]
  },
  {
   "cell_type": "code",
   "execution_count": 133,
   "id": "3cefd1aa",
   "metadata": {},
   "outputs": [],
   "source": [
    "b_hat = betas.mean(axis=0)"
   ]
  },
  {
   "cell_type": "code",
   "execution_count": 135,
   "id": "8a9f5996",
   "metadata": {},
   "outputs": [],
   "source": [
    "b_se = np.std(betas,axis=0)"
   ]
  },
  {
   "cell_type": "code",
   "execution_count": 138,
   "id": "4908ae9d",
   "metadata": {},
   "outputs": [],
   "source": [
    "b_lb = b_hat - 1.96 * b_se\n",
    "b_ub = b_hat + 1.96 * b_se"
   ]
  },
  {
   "cell_type": "code",
   "execution_count": 139,
   "id": "aae9e161",
   "metadata": {},
   "outputs": [
    {
     "data": {
      "text/plain": [
       "<matplotlib.lines.Line2D at 0x7f84533aad00>"
      ]
     },
     "execution_count": 139,
     "metadata": {},
     "output_type": "execute_result"
    },
    {
     "data": {
      "image/png": "[encoded data removed]",
      "text/plain": [
       "<Figure size 432x288 with 1 Axes>"
      ]
     },
     "metadata": {
      "needs_background": "light"
     },
     "output_type": "display_data"
    }
   ],
   "source": [
    "# Coefficients plots\n",
    "x = np.arange(3)\n",
    "fig,ax = plt.subplots(1,1)\n",
    "ax.plot(x,b_hat);\n",
    "ax.fill_between(x,y1 = b_lb, y2 = b_ub,alpha = .2);\n",
    "ax.set_xticks([0,1,2])\n",
    "ax.set_xticklabels(['Constant','Price/Income','Quality']);\n",
    "ax.axhline(y= 0,color = 'red')\n"
   ]
  },
  {
   "cell_type": "code",
   "execution_count": null,
   "id": "647de025",
   "metadata": {},
   "outputs": [],
   "source": []
  },
  {
   "cell_type": "markdown",
   "id": "1a5efee0",
   "metadata": {},
   "source": [
    "### Willingness to pay"
   ]
  },
  {
   "cell_type": "code",
   "execution_count": 1549,
   "id": "da130057",
   "metadata": {},
   "outputs": [
    {
     "data": {
      "text/plain": [
       "1.2043567016289796"
      ]
     },
     "execution_count": 1549,
     "metadata": {},
     "output_type": "execute_result"
    }
   ],
   "source": [
    "## WTP for quality for one unit of quality for each consumer\n",
    "twp = -res.x[2] * income/res.x[1]\n",
    "# WTP on average\n",
    "twp.mean()"
   ]
  },
  {
   "cell_type": "code",
   "execution_count": 1550,
   "id": "6a09c050",
   "metadata": {},
   "outputs": [
    {
     "data": {
      "image/png": "[encoded data removed]",
      "text/plain": [
       "<Figure size 432x288 with 1 Axes>"
      ]
     },
     "metadata": {
      "needs_background": "light"
     },
     "output_type": "display_data"
    }
   ],
   "source": [
    "plt.hist(twp,bins = 100);"
   ]
  },
  {
   "cell_type": "markdown",
   "id": "9a6a0109",
   "metadata": {},
   "source": [
    "## Assume a policy changes the income distribution\n",
    "### Estimated Utility function. $$U_{ni} = \\alpha - \\frac{2}{income_n}\\times price_i + 1.2 \\times quality_{i} + \\epsilon_{ni}$$\n",
    "where $\\alpha$ is ignored, since this constant is irrelavant from a policy perspective.\n",
    "\n",
    "Assume a policy raises consumers' income randomly"
   ]
  },
  {
   "cell_type": "code",
   "execution_count": 1558,
   "id": "b1f423f6",
   "metadata": {},
   "outputs": [],
   "source": [
    "data['new_income'] = data['income'] + np.repeat(np.random.uniform(size= 5000),5)"
   ]
  },
  {
   "cell_type": "code",
   "execution_count": 1559,
   "id": "437fee82",
   "metadata": {},
   "outputs": [],
   "source": [
    "data['new_p/i'] = data['p'] / data['new_income']"
   ]
  },
  {
   "cell_type": "code",
   "execution_count": 1571,
   "id": "e46a2e15",
   "metadata": {},
   "outputs": [],
   "source": [
    "# consumer surplus before the policy\n",
    "data['ev_hat0'] = np.exp(res.x[1] * data['p/i'] + res.x[2] * data['q'])\n",
    "cs0 = np.log(data.groupby('uid')['ev_hat0'].sum()) * data[['uid','income']].drop_duplicates()['income']/(-res.x[1])"
   ]
  },
  {
   "cell_type": "code",
   "execution_count": 1568,
   "id": "4c66459c",
   "metadata": {},
   "outputs": [],
   "source": [
    "# consumer surplus after the policy\n",
    "data['ev_hat1'] = np.exp(res.x[1] * data['new_p/i'] + res.x[2] * data['q'])\n",
    "cs1 = np.log(data.groupby('uid')['ev_hat1'].sum()) * data[['uid','new_income']].drop_duplicates()['new_income']/(-res.x[1])"
   ]
  },
  {
   "cell_type": "code",
   "execution_count": 1572,
   "id": "d5032fce",
   "metadata": {},
   "outputs": [],
   "source": [
    "delta_cs = cs1 - cs0"
   ]
  },
  {
   "cell_type": "code",
   "execution_count": 1573,
   "id": "a107ed93",
   "metadata": {},
   "outputs": [
    {
     "data": {
      "image/png": "[encoded data removed]",
      "text/plain": [
       "<Figure size 432x288 with 1 Axes>"
      ]
     },
     "metadata": {
      "needs_background": "light"
     },
     "output_type": "display_data"
    }
   ],
   "source": [
    "# Individual welfare change distribution\n",
    "plt.hist(delta_cs,bins = 100);"
   ]
  },
  {
   "cell_type": "code",
   "execution_count": 1593,
   "id": "b218ebf8",
   "metadata": {},
   "outputs": [
    {
     "name": "stdout",
     "output_type": "stream",
     "text": [
      "Total welfare rises by 29.286 %\n"
     ]
    }
   ],
   "source": [
    "# total welfare percentage change:\n",
    "print(f'Total welfare rises by {round((cs1.sum() / cs0.sum() - 1)*100,3)} %')"
   ]
  }
 ],
 "metadata": {
  "kernelspec": {
   "display_name": "Python 3 (ipykernel)",
   "language": "python",
   "name": "python3"
  },
  "language_info": {
   "codemirror_mode": {
    "name": "ipython",
    "version": 3
   },
   "file_extension": ".py",
   "mimetype": "text/x-python",
   "name": "python",
   "nbconvert_exporter": "python",
   "pygments_lexer": "ipython3",
   "version": "3.9.7"
  }
 },
 "nbformat": 4,
 "nbformat_minor": 5
}
